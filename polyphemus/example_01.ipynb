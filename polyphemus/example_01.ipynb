{
 "cells": [
  {
   "cell_type": "code",
   "execution_count": 100,
   "metadata": {},
   "outputs": [],
   "source": [
    "import os\n",
    "import toml"
   ]
  },
  {
   "cell_type": "code",
   "execution_count": 101,
   "metadata": {},
   "outputs": [],
   "source": [
    "# Load the TOML file\n",
    "with open('config.toml', 'r') as f:\n",
    "    config = toml.load(f)\n",
    "\n",
    "# Set the environment variables\n",
    "for key, value in config.items():\n",
    "    os.environ[key] = str(value)\n"
   ]
  },
  {
   "cell_type": "code",
   "execution_count": 102,
   "metadata": {},
   "outputs": [],
   "source": [
    "import ibis\n",
    "con = ibis.duckdb.connect('md:Eunomia')"
   ]
  },
  {
   "cell_type": "code",
   "execution_count": 103,
   "metadata": {},
   "outputs": [
    {
     "name": "stdout",
     "output_type": "stream",
     "text": [
      "['CARE_SITE', 'CDM_SOURCE', 'COHORT', 'COHORT_ATTRIBUTE', 'CONCEPT', 'CONCEPT_ANCESTOR', 'CONCEPT_CLASS', 'CONCEPT_RELATIONSHIP', 'CONCEPT_SYNONYM', 'CONDITION_ERA', 'CONDITION_OCCURRENCE', 'COST', 'DEATH', 'DEVICE_EXPOSURE', 'DOMAIN', 'DOSE_ERA', 'DRUG_ERA', 'DRUG_EXPOSURE', 'DRUG_STRENGTH', 'FACT_RELATIONSHIP', 'LOCATION', 'MEASUREMENT', 'METADATA', 'NOTE', 'NOTE_NLP', 'OBSERVATION', 'OBSERVATION_PERIOD', 'PAYER_PLAN_PERIOD', 'PERSON', 'PROCEDURE_OCCURRENCE', 'PROVIDER', 'RELATIONSHIP', 'SOURCE_TO_CONCEPT_MAP', 'SPECIMEN', 'VISIT_DETAIL', 'VISIT_OCCURRENCE', 'VOCABULARY', 'ambient_air_quality', 'coxibVsNonselVsGiBleed', 'hacker_news', 'outcomes', 'rideshare', 'service_requests', 'taxi']\n"
     ]
    }
   ],
   "source": [
    "print(con.list_tables())"
   ]
  },
  {
   "cell_type": "code",
   "execution_count": 104,
   "metadata": {},
   "outputs": [
    {
     "name": "stdout",
     "output_type": "stream",
     "text": [
      "class FactRelationship(BaseModel):\n",
      "    domain_concept_id_1: Optional[int] = Field(..., alias='DOMAIN_CONCEPT_ID_1')\n",
      "    fact_id_1: Optional[int] = Field(..., alias='FACT_ID_1')\n",
      "    domain_concept_id_2: Optional[int] = Field(..., alias='DOMAIN_CONCEPT_ID_2')\n",
      "    fact_id_2: Optional[int] = Field(..., alias='FACT_ID_2')\n",
      "    relationship_concept_id: Optional[int] = Field(None, alias='RELATIONSHIP_CONCEPT_ID')\n"
     ]
    }
   ],
   "source": [
    "import re\n",
    "from pydantic import BaseModel, confloat\n",
    "from datetime import datetime, date\n",
    "import ibis\n",
    "\n",
    "con = ibis.duckdb.connect('md:Eunomia')\n",
    "\n",
    "table_name = 'FACT_RELATIONSHIP'\n",
    "\n",
    "table = con.table(f'{table_name}')\n",
    "\n",
    "def ibis_schema_to_pydantic(schema_str: str, class_name: str) -> str:\n",
    "    # Parse the schema string into a dictionary\n",
    "    schema_dict = {}\n",
    "    for match in re.findall(r'(\\w+)\\s+(\\w+)', schema_str):\n",
    "        schema_dict[match[0]] = match[1]\n",
    "\n",
    "    # Generate the Pydantic fields\n",
    "    pydantic_fields = []\n",
    "    for name, dtype in schema_dict.items():\n",
    "        if name.endswith('_DATETIME'):\n",
    "            pydantic_type = 'datetime'\n",
    "            default_value = 'None'\n",
    "        elif name.endswith('_DATE'):\n",
    "            pydantic_type = 'datetime'\n",
    "            default_value = 'None'\n",
    "        elif name.endswith('_ID'):\n",
    "            pydantic_type = 'int'\n",
    "            default_value = 'None'\n",
    "        else:\n",
    "            pydantic_type = 'int' if dtype in ('int32', 'int64', 'float64') else 'str'\n",
    "            default_value = 'None' if pydantic_type == 'Optional[str]' else '...'\n",
    "        \n",
    "        # Handle 'None' string as default value for datetime fields\n",
    "        if pydantic_type == 'datetime' and default_value == 'None':\n",
    "            default_value = None\n",
    "        \n",
    "        pydantic_fields.append(f'{name.lower()}: Optional[{pydantic_type}] = Field({default_value}, alias=\\'{name}\\')')\n",
    "\n",
    "    # Generate the Pydantic model with the derived class name\n",
    "    class_name = ''.join(word.capitalize() for word in re.split(r'[^a-zA-Z0-9_]', class_name))\n",
    "    class_name = class_name[:1].upper() + class_name[1:]\n",
    "    class_name = re.sub(r'_(\\w)', lambda m: m.group(1).upper(), class_name)\n",
    "    return f'class {class_name}(BaseModel):\\n    ' + '\\n    '.join(pydantic_fields)\n",
    "\n",
    "schema_str = str(table.schema())\n",
    "# Derive the class name from the table name\n",
    "class_name = ''.join(word.capitalize() for word in re.split(r'[^a-zA-Z0-9_]', table_name))\n",
    "# Test the function\n",
    "print(ibis_schema_to_pydantic(schema_str, class_name))"
   ]
  },
  {
   "cell_type": "code",
   "execution_count": 105,
   "metadata": {},
   "outputs": [],
   "source": [
    "from pydantic import BaseModel, Field, ValidationError\n",
    "from typing import Optional, Type\n",
    "from datetime import date, datetime\n",
    "import pandas as pd\n",
    "import numpy as np\n",
    "\n",
    "def validate_dataframe(df: pd.DataFrame, model: Type[BaseModel]) -> pd.DataFrame:\n",
    "    for index, row in df.iterrows():\n",
    "        try:\n",
    "            # Convert values to None if they are NaN or None\n",
    "            row_dict = {k: v if not pd.isna(v) and v is not None else None for k, v in row.to_dict().items()}\n",
    "            model(**row_dict)\n",
    "        except ValidationError as e:\n",
    "            print(f\"Validation error for row {index}: {e}\")\n",
    "    return df\n",
    "\n",
    "class FactRelationship(BaseModel):\n",
    "    domain_concept_id_1: Optional[int] = Field(..., alias='DOMAIN_CONCEPT_ID_1')\n",
    "    fact_id_1: Optional[int] = Field(..., alias='FACT_ID_1')\n",
    "    domain_concept_id_2: Optional[int] = Field(..., alias='DOMAIN_CONCEPT_ID_2')\n",
    "    fact_id_2: Optional[int] = Field(..., alias='FACT_ID_2')\n",
    "    relationship_concept_id: Optional[int] = Field(None, alias='RELATIONSHIP_CONCEPT_ID')"
   ]
  },
  {
   "cell_type": "code",
   "execution_count": 106,
   "metadata": {},
   "outputs": [
    {
     "data": {
      "text/html": [
       "<div>\n",
       "<style scoped>\n",
       "    .dataframe tbody tr th:only-of-type {\n",
       "        vertical-align: middle;\n",
       "    }\n",
       "\n",
       "    .dataframe tbody tr th {\n",
       "        vertical-align: top;\n",
       "    }\n",
       "\n",
       "    .dataframe thead th {\n",
       "        text-align: right;\n",
       "    }\n",
       "</style>\n",
       "<table border=\"1\" class=\"dataframe\">\n",
       "  <thead>\n",
       "    <tr style=\"text-align: right;\">\n",
       "      <th></th>\n",
       "      <th>DOMAIN_CONCEPT_ID_1</th>\n",
       "      <th>FACT_ID_1</th>\n",
       "      <th>DOMAIN_CONCEPT_ID_2</th>\n",
       "      <th>FACT_ID_2</th>\n",
       "      <th>RELATIONSHIP_CONCEPT_ID</th>\n",
       "    </tr>\n",
       "  </thead>\n",
       "  <tbody>\n",
       "  </tbody>\n",
       "</table>\n",
       "</div>"
      ],
      "text/plain": [
       "Empty DataFrame\n",
       "Columns: [DOMAIN_CONCEPT_ID_1, FACT_ID_1, DOMAIN_CONCEPT_ID_2, FACT_ID_2, RELATIONSHIP_CONCEPT_ID]\n",
       "Index: []"
      ]
     },
     "execution_count": 106,
     "metadata": {},
     "output_type": "execute_result"
    }
   ],
   "source": [
    "df = table.execute()\n",
    "\n",
    "validate_dataframe(df, FactRelationship)"
   ]
  }
 ],
 "metadata": {
  "kernelspec": {
   "display_name": "venv",
   "language": "python",
   "name": "python3"
  },
  "language_info": {
   "codemirror_mode": {
    "name": "ipython",
    "version": 3
   },
   "file_extension": ".py",
   "mimetype": "text/x-python",
   "name": "python",
   "nbconvert_exporter": "python",
   "pygments_lexer": "ipython3",
   "version": "3.10.8"
  }
 },
 "nbformat": 4,
 "nbformat_minor": 2
}
